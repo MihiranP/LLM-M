{
 "cells": [
  {
   "cell_type": "markdown",
   "id": "24f3687c-c5da-4d9a-a8eb-aadceace4723",
   "metadata": {},
   "source": [
    "---\n",
    "#### **Open/Extract Data For Processing**\n",
    "1. open data file\n",
    "2. extract a set of unique characters in text for tokenization\n",
    "---"
   ]
  },
  {
   "cell_type": "code",
   "execution_count": 46,
   "id": "fb9404f7-90bc-4ac2-8d94-df9a9495dcd4",
   "metadata": {},
   "outputs": [
    {
     "name": "stdout",
     "output_type": "stream",
     "text": [
      "chars len: 81\n",
      "Some characters of chars: [..., 8, 9, :, ;, ?, A, B, C, D, E, F, G, H, I, J, K, L, M, N, O, ...]\n"
     ]
    }
   ],
   "source": [
    "# Open data to process in transformer\n",
    "file = 'wizard_of_oz.txt'\n",
    "\n",
    "with open('data/'+file, 'r', encoding='utf-8') as file:\n",
    "    text = file.read()\n",
    "\n",
    "# Extract all the unique characters out of our data for tokenization\n",
    "chars = sorted(set(text))\n",
    "print(\"chars len:\", len(chars))\n",
    "print(\"Some characters of chars: [..., \" + (', ').join(chars[20:40]) + \", ...]\")"
   ]
  },
  {
   "cell_type": "markdown",
   "id": "0e1e8bfe-4eba-4728-829d-078fe2ab56c8",
   "metadata": {},
   "source": [
    "---\n",
    "#### **Create Tokenization Pipeline**\n",
    "1. Create mapping of character to integer value\n",
    "2. Create mapping of integer value to character\n",
    "3. Create an encoding function to convert string -> array of integer (vector)\n",
    "4. Create a decoding function to convert vector -> string\n",
    "---"
   ]
  },
  {
   "cell_type": "code",
   "execution_count": 62,
   "id": "8e04170d-4e10-4ea4-9715-d7bc5ebf3e82",
   "metadata": {},
   "outputs": [
    {
     "name": "stdout",
     "output_type": "stream",
     "text": [
      "[32, 29, 36, 36, 39]\n",
      "HELLO\n"
     ]
    }
   ],
   "source": [
    "# !Tokenization is broken into 2 steps!\n",
    "# Encoding - converts each element of our chars array into an integer\n",
    "# Decoding - converts an array of integers back into a string\n",
    "\n",
    "string_to_int = {ch:i for i,ch in enumerate(chars)} # give each unique char an id {'\\n': 0, ' ': 1, '!': 2, ...}\n",
    "int_to_string = {i:ch for i,ch in enumerate(chars)} # inverse of previous\n",
    "\n",
    "encode = lambda s: [string_to_int[c] for c in s]\n",
    "decode = lambda l: ''.join([int_to_string[i] for i in l])\n",
    "\n",
    "print(encode(\"HELLO\")) # Encode function converts string to array of ints: \"hello\" -> [32, 29, 36, 36, 39]\n",
    "print(decode([32, 29, 36, 36, 39])) # Decode converts [32, 29, 36, 36, 39] back into \"hello\""
   ]
  },
  {
   "cell_type": "code",
   "execution_count": null,
   "id": "387eec61-a8a0-49b2-8c8a-aacc2495f773",
   "metadata": {},
   "outputs": [],
   "source": []
  }
 ],
 "metadata": {
  "kernelspec": {
   "display_name": "cuda-llm",
   "language": "python",
   "name": "cuda"
  },
  "language_info": {
   "codemirror_mode": {
    "name": "ipython",
    "version": 3
   },
   "file_extension": ".py",
   "mimetype": "text/x-python",
   "name": "python",
   "nbconvert_exporter": "python",
   "pygments_lexer": "ipython3",
   "version": "3.10.14"
  }
 },
 "nbformat": 4,
 "nbformat_minor": 5
}
